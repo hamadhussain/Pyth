{
 "cells": [
  {
   "cell_type": "code",
   "execution_count": null,
   "metadata": {},
   "outputs": [
    {
     "name": "stdout",
     "output_type": "stream",
     "text": [
      "Sheet 1:\n",
      "   Unnamed: 0     Name   Age\n",
      "0           1  Muujtaba   20\n",
      "1           2       Ali   20\n",
      "2           3   Muzamil   19\n",
      "3           4      Raza   15\n",
      "\n",
      "Sheet 2:\n",
      "   Unnamed: 0   Name   Age\n",
      "0           1  hammad   20\n",
      "1           2  Mohsin   20\n",
      "2           3    Hadi   19\n",
      "3           4    Raza   15\n"
     ]
    }
   ],
   "source": [
    "import pandas as pd\n",
    "import sklearn \n",
    "file_path = 'Book3.xlsx' \n",
    "xls = pd.ExcelFile(file_path)\n",
    "file_path1 = 'Book2.xlsx'\n",
    "xl = pd.ExcelFile(file_path1)\n",
    "sheet1 = pd.read_excel(xls, sheet_name=0)\n",
    "sheet2 = pd.read_excel(xl, sheet_name=0)\n",
    "print(\"Sheet 1:\")\n",
    "print(sheet1)\n",
    "print(\"\\nSheet 2:\")\n",
    "print(sheet2)"
   ]
  },
  {
   "cell_type": "code",
   "execution_count": 1,
   "metadata": {},
   "outputs": [
    {
     "data": {
      "text/html": [
       "<div>\n",
       "<style scoped>\n",
       "    .dataframe tbody tr th:only-of-type {\n",
       "        vertical-align: middle;\n",
       "    }\n",
       "\n",
       "    .dataframe tbody tr th {\n",
       "        vertical-align: top;\n",
       "    }\n",
       "\n",
       "    .dataframe thead th {\n",
       "        text-align: right;\n",
       "    }\n",
       "</style>\n",
       "<table border=\"1\" class=\"dataframe\">\n",
       "  <thead>\n",
       "    <tr style=\"text-align: right;\">\n",
       "      <th></th>\n",
       "      <th>sepal length (cm)</th>\n",
       "      <th>sepal width (cm)</th>\n",
       "      <th>petal length (cm)</th>\n",
       "      <th>petal width (cm)</th>\n",
       "    </tr>\n",
       "  </thead>\n",
       "  <tbody>\n",
       "    <tr>\n",
       "      <th>114</th>\n",
       "      <td>-0.052506</td>\n",
       "      <td>-0.592373</td>\n",
       "      <td>3.0</td>\n",
       "      <td>4.0</td>\n",
       "    </tr>\n",
       "    <tr>\n",
       "      <th>62</th>\n",
       "      <td>0.189830</td>\n",
       "      <td>-1.973554</td>\n",
       "      <td>2.0</td>\n",
       "      <td>1.0</td>\n",
       "    </tr>\n",
       "    <tr>\n",
       "      <th>33</th>\n",
       "      <td>-0.416010</td>\n",
       "      <td>2.630382</td>\n",
       "      <td>0.0</td>\n",
       "      <td>1.0</td>\n",
       "    </tr>\n",
       "    <tr>\n",
       "      <th>107</th>\n",
       "      <td>1.765012</td>\n",
       "      <td>-0.362176</td>\n",
       "      <td>4.0</td>\n",
       "      <td>3.0</td>\n",
       "    </tr>\n",
       "    <tr>\n",
       "      <th>7</th>\n",
       "      <td>-1.021849</td>\n",
       "      <td>0.788808</td>\n",
       "      <td>1.0</td>\n",
       "      <td>1.0</td>\n",
       "    </tr>\n",
       "  </tbody>\n",
       "</table>\n",
       "</div>"
      ],
      "text/plain": [
       "     sepal length (cm)  sepal width (cm)  petal length (cm)  petal width (cm)\n",
       "114          -0.052506         -0.592373                3.0               4.0\n",
       "62            0.189830         -1.973554                2.0               1.0\n",
       "33           -0.416010          2.630382                0.0               1.0\n",
       "107           1.765012         -0.362176                4.0               3.0\n",
       "7            -1.021849          0.788808                1.0               1.0"
      ]
     },
     "execution_count": 1,
     "metadata": {},
     "output_type": "execute_result"
    }
   ],
   "source": [
    "import numpy as np\n",
    "from sklearn.datasets import load_iris\n",
    "from sklearn.preprocessing import StandardScaler, KBinsDiscretizer\n",
    "from sklearn.compose import ColumnTransformer\n",
    "\n",
    "X, y = load_iris(as_frame=True, return_X_y=True)\n",
    "sepal_cols = [\"sepal length (cm)\", \"sepal width (cm)\"]\n",
    "petal_cols = [\"petal length (cm)\", \"petal width (cm)\"]\n",
    "\n",
    "preprocessor = ColumnTransformer(\n",
    "    [\n",
    "        (\"scaler\", StandardScaler(), sepal_cols),\n",
    "        (\"kbin\", KBinsDiscretizer(encode=\"ordinal\"), petal_cols),\n",
    "    ],\n",
    "    verbose_feature_names_out=False,\n",
    ").set_output(transform=\"pandas\")\n",
    "\n",
    "X_out = preprocessor.fit_transform(X)\n",
    "X_out.sample(n=5, random_state=0)"
   ]
  },
  {
   "cell_type": "code",
   "execution_count": 7,
   "metadata": {},
   "outputs": [
    {
     "ename": "TypeError",
     "evalue": "PredictionErrorDisplay.from_estimator() missing 1 required positional argument: 'y'",
     "output_type": "error",
     "traceback": [
      "\u001b[1;31m---------------------------------------------------------------------------\u001b[0m",
      "\u001b[1;31mTypeError\u001b[0m                                 Traceback (most recent call last)",
      "Cell \u001b[1;32mIn[7], line 5\u001b[0m\n\u001b[0;32m      2\u001b[0m \u001b[38;5;28;01mfrom\u001b[39;00m \u001b[38;5;21;01msklearn\u001b[39;00m\u001b[38;5;21;01m.\u001b[39;00m\u001b[38;5;21;01mmetrics\u001b[39;00m \u001b[38;5;28;01mimport\u001b[39;00m PredictionErrorDisplay\n\u001b[0;32m      4\u001b[0m fig, axs \u001b[38;5;241m=\u001b[39m plt\u001b[38;5;241m.\u001b[39msubplots(nrows\u001b[38;5;241m=\u001b[39m\u001b[38;5;241m1\u001b[39m, ncols\u001b[38;5;241m=\u001b[39m\u001b[38;5;241m2\u001b[39m, figsize\u001b[38;5;241m=\u001b[39m(\u001b[38;5;241m12\u001b[39m, \u001b[38;5;241m5\u001b[39m))\n\u001b[1;32m----> 5\u001b[0m _ \u001b[38;5;241m=\u001b[39m \u001b[43mPredictionErrorDisplay\u001b[49m\u001b[38;5;241;43m.\u001b[39;49m\u001b[43mfrom_estimator\u001b[49m\u001b[43m(\u001b[49m\n\u001b[0;32m      6\u001b[0m \u001b[43m     \u001b[49m\u001b[43mX\u001b[49m\u001b[43m,\u001b[49m\u001b[43m \u001b[49m\u001b[43my\u001b[49m\u001b[43m,\u001b[49m\u001b[43m \u001b[49m\u001b[43mkind\u001b[49m\u001b[38;5;241;43m=\u001b[39;49m\u001b[38;5;124;43m\"\u001b[39;49m\u001b[38;5;124;43mactual_vs_predicted\u001b[39;49m\u001b[38;5;124;43m\"\u001b[39;49m\u001b[43m,\u001b[49m\u001b[43m \u001b[49m\u001b[43max\u001b[49m\u001b[38;5;241;43m=\u001b[39;49m\u001b[43maxs\u001b[49m\u001b[43m[\u001b[49m\u001b[38;5;241;43m0\u001b[39;49m\u001b[43m]\u001b[49m\n\u001b[0;32m      7\u001b[0m \u001b[43m)\u001b[49m\n\u001b[0;32m      8\u001b[0m \u001b[38;5;66;03m# _ = PredictionErrorDisplay.from_estimator(\u001b[39;00m\n\u001b[0;32m      9\u001b[0m \u001b[38;5;66;03m#      X, y, kind=\"residual_vs_predicted\", ax=axs[1]\u001b[39;00m\n\u001b[0;32m     10\u001b[0m \u001b[38;5;66;03m# )\u001b[39;00m\n",
      "\u001b[1;31mTypeError\u001b[0m: PredictionErrorDisplay.from_estimator() missing 1 required positional argument: 'y'"
     ]
    },
    {
     "data": {
      "image/png": "[encoded data removed]",
      "text/plain": [
       "<Figure size 1200x500 with 2 Axes>"
      ]
     },
     "metadata": {},
     "output_type": "display_data"
    }
   ],
   "source": [
    "import matplotlib.pyplot as plt\n",
    "from sklearn.metrics import PredictionErrorDisplay\n",
    "\n",
    "fig, axs = plt.subplots(nrows=1, ncols=2, figsize=(12, 5))\n",
    "_ = PredictionErrorDisplay.from_estimator(\n",
    "     X, y, kind=\"actual_vs_predicted\", ax=axs[0]\n",
    ")\n",
    "# _ = PredictionErrorDisplay.from_estimator(\n",
    "#      X, y, kind=\"residual_vs_predicted\", ax=axs[1]\n",
    "# )"
   ]
  },
  {
   "cell_type": "code",
   "execution_count": 19,
   "metadata": {},
   "outputs": [
    {
     "name": "stdout",
     "output_type": "stream",
     "text": [
      "        Subject 1  Subject 2  Subject 3  Subject 4\n",
      "Ali            80         70         90         75\n",
      "Amir           75         85         92         70\n",
      "Kamran         90         80         85         78\n",
      "Sara           88         78         87         85\n",
      "Nadia          95         82         91         80\n"
     ]
    }
   ],
   "source": [
    "import pandas as pd\n",
    "\n",
    "data = {\n",
    "    'Subject 1': [80, 75, 90, 88, 95],\n",
    "    'Subject 2': [70, 85, 80, 78, 82],\n",
    "    'Subject 3': [90, 92, 85, 87, 91],\n",
    "    'Subject 4': [75, 70, 78, 85, 80]\n",
    "}\n",
    "index = ['Ali', 'Amir', 'Kamran', 'Sara', 'Nadia']\n",
    "df = pd.DataFrame(data, index=index)\n",
    "print(df)"
   ]
  },
  {
   "cell_type": "code",
   "execution_count": 28,
   "metadata": {},
   "outputs": [
    {
     "name": "stdout",
     "output_type": "stream",
     "text": [
      "   Unnamed: 0   Name \n",
      "0           1  hammad\n",
      "1           2  Mohsin\n",
      "2           3    Hadi\n",
      "3           4    Raza\n"
     ]
    }
   ],
   "source": [
    "import pandas as pd\n",
    "\n",
    "file_path = 'Book2.xlsx'\n",
    "df = pd.read_excel(file_path)\n",
    "print(df.iloc[:, :2])"
   ]
  },
  {
   "cell_type": "code",
   "execution_count": 57,
   "metadata": {},
   "outputs": [
    {
     "name": "stdout",
     "output_type": "stream",
     "text": [
      "   2 Mohsin  20\n",
      "0  3   Hadi  19\n",
      "1  4   Raza  15\n"
     ]
    }
   ],
   "source": [
    "import pandas as pd\n",
    "\n",
    "file_path = 'Book2.xlsx'  \n",
    "df = pd.read_excel(file_path, skiprows=2)\n",
    "print(df)"
   ]
  },
  {
   "cell_type": "code",
   "execution_count": 66,
   "metadata": {},
   "outputs": [
    {
     "name": "stdout",
     "output_type": "stream",
     "text": [
      "   Employee ID First Name Last Name  Department            Position  \\\n",
      "3            4      Emily     Davis          HR      HR Coordinator   \n",
      "4            5      David     Brown     Finance   Financial Analyst   \n",
      "5            6      Sarah    Wilson  Operations  Operations Manager   \n",
      "\n",
      "   Hire Date                     Email Phone Number     Gender  \n",
      "3  5/10/2018   emily.davis@example.com     555-1011     Female  \n",
      "4  11/5/2022   david.brown@example.com     555-1213  No Gender  \n",
      "5  9/15/2019  sarah.wilson@example.com     555-1415     Female  \n"
     ]
    },
    {
     "name": "stderr",
     "output_type": "stream",
     "text": [
      "C:\\Users\\HAMMAD HUSSAIN\\AppData\\Local\\Temp\\ipykernel_21400\\4003499629.py:4: FutureWarning: A value is trying to be set on a copy of a DataFrame or Series through chained assignment using an inplace method.\n",
      "The behavior will change in pandas 3.0. This inplace method will never work because the intermediate object on which we are setting values always behaves as a copy.\n",
      "\n",
      "For example, when doing 'df[col].method(value, inplace=True)', try using 'df.method({col: value}, inplace=True)' or df[col] = df[col].method(value) instead, to perform the operation inplace on the original object.\n",
      "\n",
      "\n",
      "  df['Gender'].fillna('No Gender', inplace=True)\n"
     ]
    }
   ],
   "source": [
    "import pandas as pd\n",
    "\n",
    "df = pd.read_csv('employees.csv')\n",
    "df['Gender'].fillna('No Gender', inplace=True)\n",
    "print(df.iloc[3:6])"
   ]
  },
  {
   "cell_type": "code",
   "execution_count": 58,
   "metadata": {},
   "outputs": [
    {
     "name": "stdout",
     "output_type": "stream",
     "text": [
      "    Age  Salary\n",
      "0  0.00    0.00\n",
      "1  0.25    0.25\n",
      "2  0.50    0.50\n",
      "3  0.75    0.75\n",
      "4  1.00    1.00\n"
     ]
    }
   ],
   "source": [
    "import pandas as pd\n",
    "\n",
    "data = {'Age': [25, 30, 35, 40, 45], 'Salary': [30000, 40000, 50000, 60000, 70000]}\n",
    "df = pd.DataFrame(data)\n",
    "df['Age'] = (df['Age'] - df['Age'].min()) / (df['Age'].max() - df['Age'].min())\n",
    "df['Salary'] = (df['Salary'] - df['Salary'].min()) / (df['Salary'].max() - df['Salary'].min())\n",
    "print(df)"
   ]
  },
  {
   "cell_type": "code",
   "execution_count": 60,
   "metadata": {},
   "outputs": [
    {
     "name": "stdout",
     "output_type": "stream",
     "text": [
      "   Age  Salary  Age_Standardized  Salary_Standardized\n",
      "0   25   42000         -1.330145            -0.990994\n",
      "1   36   50000          0.466718             0.189765\n",
      "2   30   45000         -0.513389            -0.548209\n",
      "3   27   43000         -1.003443            -0.843399\n",
      "4   38   51000          0.793420             0.337360\n",
      "5   42   62000          1.446825             1.960903\n",
      "6   34   48000          0.140015            -0.105425\n"
     ]
    }
   ],
   "source": [
    "import pandas as pd\n",
    "\n",
    "data = {\n",
    "    'Age': [25, 36, 30, 27, 38, 42, 34],\n",
    "    'Salary': [42000, 50000, 45000, 43000, 51000, 62000, 48000]\n",
    "}\n",
    "df = pd.DataFrame(data)\n",
    "df['Age_Standardized'] = (df['Age'] - df['Age'].mean()) / df['Age'].std()\n",
    "df['Salary_Standardized'] = (df['Salary'] - df['Salary'].mean()) / df['Salary'].std()\n",
    "print(df)"
   ]
  },
  {
   "cell_type": "code",
   "execution_count": 59,
   "metadata": {},
   "outputs": [
    {
     "name": "stdout",
     "output_type": "stream",
     "text": [
      "   First Score  Second Score  Third Score\n",
      "0        100.0          30.0         40.0\n",
      "1         90.0          45.0         40.0\n",
      "2         95.0          56.0         80.0\n",
      "3         95.0           NaN         98.0\n"
     ]
    },
    {
     "name": "stderr",
     "output_type": "stream",
     "text": [
      "C:\\Users\\HAMMAD HUSSAIN\\AppData\\Local\\Temp\\ipykernel_21400\\3227861979.py:11: FutureWarning: DataFrame.interpolate with method=bfill is deprecated and will raise in a future version. Use obj.ffill() or obj.bfill() instead.\n",
      "  df.interpolate(method='bfill', inplace=True)\n"
     ]
    }
   ],
   "source": [
    "import pandas as pd\n",
    "import numpy as np\n",
    "\n",
    "data = {\n",
    "    'First Score': [100, 90, np.nan, 95],\n",
    "    'Second Score': [30, 45, 56, np.nan],\n",
    "    'Third Score': [np.nan, 40, 80, 98]\n",
    "}\n",
    "\n",
    "df = pd.DataFrame(data)\n",
    "df.interpolate(method='bfill', inplace=True)\n",
    "print(df)"
   ]
  }
 ],
 "metadata": {
  "kernelspec": {
   "display_name": "Python 3",
   "language": "python",
   "name": "python3"
  },
  "language_info": {
   "codemirror_mode": {
    "name": "ipython",
    "version": 3
   },
   "file_extension": ".py",
   "mimetype": "text/x-python",
   "name": "python",
   "nbconvert_exporter": "python",
   "pygments_lexer": "ipython3",
   "version": "3.12.5"
  }
 },
 "nbformat": 4,
 "nbformat_minor": 2
}
