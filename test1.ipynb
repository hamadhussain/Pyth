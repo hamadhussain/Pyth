{
 "cells": [
  {
   "cell_type": "code",
   "execution_count": 3,
   "metadata": {},
   "outputs": [
    {
     "name": "stdout",
     "output_type": "stream",
     "text": [
      "Predicted == 1.0\n"
     ]
    }
   ],
   "source": [
    "import numpy as np\n",
    "import pandas as pd\n",
    "from sklearn.model_selection import train_test_split\n",
    "from sklearn.linear_model import LogisticRegression\n",
    "X=np.array([[125,30,0],[30,40,1],[20,35,0],[35,45,1]])\n",
    "y=np.array([25,30,0,5])\n",
    "X_train,X_test,y_train,y_test=train_test_split(X,y,test_size=0.2,random_state=42)\n",
    "model=LogisticRegression()\n",
    "model.fit(X_train,y_train)\n",
    "accuracy=model.score(X_train,y_train)\n",
    "print(f\"Predicted == {accuracy}\")"
   ]
  },
  {
   "cell_type": "code",
   "execution_count": 8,
   "metadata": {},
   "outputs": [
    {
     "name": "stdout",
     "output_type": "stream",
     "text": [
      "[5]\n",
      "UnLike\n"
     ]
    }
   ],
   "source": [
    "age= float(input(\"enters study hours\"))\n",
    "time= float(input(\"enters study hours\"))\n",
    "addedcart= float(input(\"enters study hours\"))\n",
    "user_data=np.array([[age,time,addedcart]])\n",
    "prediction=model.predict(user_data)\n",
    "print(prediction)\n",
    "if prediction[0]==1:\n",
    "    print(\"Like\")\n",
    "else:\n",
    "    print(\"UnLike\")"
   ]
  }
 ],
 "metadata": {
  "kernelspec": {
   "display_name": "Python 3",
   "language": "python",
   "name": "python3"
  },
  "language_info": {
   "codemirror_mode": {
    "name": "ipython",
    "version": 3
   },
   "file_extension": ".py",
   "mimetype": "text/x-python",
   "name": "python",
   "nbconvert_exporter": "python",
   "pygments_lexer": "ipython3",
   "version": "3.12.5"
  }
 },
 "nbformat": 4,
 "nbformat_minor": 2
}
